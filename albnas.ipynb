{
 "cells": [
  {
   "cell_type": "code",
   "execution_count": 3,
   "metadata": {},
   "outputs": [],
   "source": [
    "positives = ['St. Albans'\n",
    "'St. Albans',\n",
    "'St Albans',\n",
    "'St.Ablans',\n",
    "'St.albans',\n",
    "'St. Alans',\n",
    "'S. Albans',\n",
    "'St.. Albans',\n",
    "'S. Albnas',\n",
    "'St. Albnas',\n",
    "'St.Al bans',\n",
    "'St.Algans'\n",
    "'Sl.Albans',\n",
    "'St. Allbans',\n",
    "'St, Albans',\n",
    "'St. Alban',\n",
    "'St. Alban']\n",
    "\n",
    "negatives = ['St. Paul',\n",
    " 'Albans',\n",
    " 'Albna'\n",
    " 'St. Alberts',\n",
    " 'Alberta',\n",
    " 'St. Johnsbury, VT',\n",
    " 'Alban St.',\n",
    " 'State of Alban',\n",
    " 'Albany',\n",
    " 'Albania',\n",
    " 'Ban',\n",
    " 'Alfred',\n",
    " 'St. Alfred',\n",
    " 'Saint',\n",
    " 'St',\n",
    " 'Alps',\n",
    " 'Alloy',\n",
    " 'Alban Street',\n",
    " 'AL',\n",
    " 'Alabama',\n",
    " 'Alexa',\n",
    " 'Alfonso Soriano',\n",
    " 'Snabla',\n",
    " 'Peoria',\n",
    " 'I ran out of ideas']\n",
    "\n"
   ]
  },
  {
   "cell_type": "code",
   "execution_count": 4,
   "metadata": {},
   "outputs": [
    {
     "name": "stdout",
     "output_type": "stream",
     "text": [
      "Correct guesses for positives:  1.0\n",
      "Correct guesses for negatives:  0.9166666666666666\n",
      "Correct guesses total:  0.9487179487179487\n"
     ]
    }
   ],
   "source": [
    "from sklearn.feature_extraction.text import TfidfVectorizer\n",
    "from sklearn.neighbors import NearestNeighbors\n",
    "\n",
    "train_words = positives + negatives\n",
    "\n",
    "# Convert training words into feature vectors using TF-IDF\n",
    "vectorizer = TfidfVectorizer()\n",
    "X_train = vectorizer.fit_transform(train_words)\n",
    "\n",
    "# Number of clusters\n",
    "k = 2\n",
    "\n",
    "# Train the k-means clustering model\n",
    "knn = NearestNeighbors(n_neighbors=1)\n",
    "knn.fit(X_train)\n",
    "\n",
    "classes_positives = []\n",
    "for word in positives:\n",
    "    distances, indices = knn.kneighbors(vectorizer.transform([word]))\n",
    "    nearest_words = [train_words[i] for i in indices[0]]    \n",
    "    classes_positives.append(1 if nearest_words[0] in positives else 0)\n",
    "\n",
    "\n",
    "classes_negatives = []\n",
    "for word in negatives:\n",
    "    distances, indices = knn.kneighbors(vectorizer.transform([word]))\n",
    "    nearest_words = [train_words[i] for i in indices[0]]\n",
    "    classes_negatives.append(1 if nearest_words[0] in negatives else 0)\n",
    "\n",
    "print(\"Correct guesses for positives: \", classes_positives.count(1)/len(positives))\n",
    "print(\"Correct guesses for negatives: \", classes_negatives.count(1)/len(negatives))\n",
    "print(\"Correct guesses total: \", (classes_positives.count(1) + classes_negatives.count(1))/len(train_words))\n"
   ]
  }
 ],
 "metadata": {
  "kernelspec": {
   "display_name": "Python 3",
   "language": "python",
   "name": "python3"
  },
  "language_info": {
   "codemirror_mode": {
    "name": "ipython",
    "version": 3
   },
   "file_extension": ".py",
   "mimetype": "text/x-python",
   "name": "python",
   "nbconvert_exporter": "python",
   "pygments_lexer": "ipython3",
   "version": "3.11.4"
  },
  "orig_nbformat": 4
 },
 "nbformat": 4,
 "nbformat_minor": 2
}
